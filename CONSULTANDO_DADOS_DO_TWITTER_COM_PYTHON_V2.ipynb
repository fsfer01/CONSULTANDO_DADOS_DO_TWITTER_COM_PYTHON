{
 "cells": [
  {
   "cell_type": "code",
   "execution_count": 7,
   "id": "8143fee8",
   "metadata": {},
   "outputs": [],
   "source": [
    "#IMPORTANDO BIBLIOTECAS\n",
    "import tweepy as tw\n",
    "import pandas as pd\n",
    "from flatten_json import flatten\n",
    "from datetime import timedelta,datetime\n",
    "import sqlalchemy"
   ]
  },
  {
   "cell_type": "code",
   "execution_count": 8,
   "id": "802bf81a",
   "metadata": {},
   "outputs": [
    {
     "name": "stdout",
     "output_type": "stream",
     "text": [
      "CONEXÃO REALIZADA COM SUCESSO!\n"
     ]
    }
   ],
   "source": [
    "#CHAVES DE ACESSO\n",
    "consumer_key = ''\n",
    "consumer_secret = ''\n",
    "access_token = ''\n",
    "access_token_secret = ''\n",
    "\n",
    "#AUTENTICAÇÃO\n",
    "auth = tw.OAuthHandler(consumer_key, consumer_secret)\n",
    "auth.set_access_token(access_token, access_token_secret)\n",
    "\n",
    "api = tw.API(auth)\n",
    "print(\"CONEXÃO REALIZADA COM SUCESSO!\")\n",
    "public_tweets = api.home_timeline()"
   ]
  },
  {
   "cell_type": "code",
   "execution_count": 9,
   "id": "1378b5da",
   "metadata": {},
   "outputs": [],
   "source": [
    "querie = \"DADOS\"  + \" -filter:retweets\"  # BUSCANDO A PALAVRA DADOS E DESCONSIDERANDO OS RETWEETS"
   ]
  },
  {
   "cell_type": "code",
   "execution_count": 10,
   "id": "252f9187",
   "metadata": {},
   "outputs": [],
   "source": [
    "#QUANTIDADE DE REQUISIÇÕES:\n",
    "cursor_tweets = tw.Cursor(api.search_tweets,q=querie).items(50) #QUANTIDADE DE RESULTADOS / REQUISIÇÕES"
   ]
  },
  {
   "cell_type": "code",
   "execution_count": 11,
   "id": "39acbbdf",
   "metadata": {},
   "outputs": [
    {
     "name": "stdout",
     "output_type": "stream",
     "text": [
      "Fiz hidratação no black com pó de café e agora vai ficar saindo pó dele durante uns 3 anos rsrsrs toda vez isso\n",
      "RT @lrdcrrtr: Bom Dia.\n",
      "🖕🏻🖕🏻🖕🏻🖕🏻🖕🏻 https://t.co/to7J0xQsV4\n",
      "Até as manifestações realizadas em cidadezinhas do interior em apoio ao PR Bolsonaro reuniram mais gente; e isso no… https://t.co/Gmr7BdTwUf\n",
      "Está explicado por que Lula tem defendido tanto os bandidos e atacado tanto os agentes de segurança, os cristãos e… https://t.co/LILvksMYUV\n",
      "Java Project https://t.co/mbi07axrgI Pipeline project have all the info and examples in python but need it in java… https://t.co/vAy3BQAE5G\n",
      "Rapaz corajoso. Dizer a verdade é um ato de coragem hoje em dia. https://t.co/J3cmth4QCK\n",
      "RT @textazo: https://t.co/g45edjbdg8\n",
      "Jardim de Versailles - 2018 @ Canon T7i - EF 50mm F1.8 https://t.co/reWvXvX1Rg\n",
      "@roderix1966 So no estilo !\n",
      "RT @bicmuller: O twitter em um vídeo:\n",
      "RT @SiTuvieseDinero: https://t.co/qAcC9wBgsg\n",
      "&amp;¨#$@&amp;$*&amp;#@&amp;$(@ https://t.co/Tp4BtIEnAt\n",
      "RT @kara_hayess: This the kinda snap filter you send your girl 😩\n",
      "RT @thomas__shelbys: Si me fallas dos veces la culpa es mia\n",
      "RT @calorie_guidee: https://t.co/xVPdTGYeex\n",
      "RT @calorie_guidee: https://t.co/ftkz8cxyZd\n",
      "RT @ScaryUnder: https://t.co/F9dr2uKcHX\n",
      "RT @ScaryUnder: https://t.co/lHL7lNNZDl\n",
      "RT @ScaryUnder: https://t.co/yoKrKTbADs\n",
      "RT @thomas__shelbys: ser el chat fijado de alguien 📈📈📈\n"
     ]
    }
   ],
   "source": [
    "#VENDO OS tweet\n",
    "for tweet in public_tweets:\n",
    "    print(tweet.text)"
   ]
  },
  {
   "cell_type": "code",
   "execution_count": 12,
   "id": "f1bc4527",
   "metadata": {},
   "outputs": [],
   "source": [
    "#CRIANDO UM DICIONÁRIO\n",
    "twkeys = tweet._json.keys() #CHAMANDO FUNÇÃO DA API\n",
    "basetwitter ={} #CRIANDO UM DICIONÁRIO VAZIO\n",
    "basetwitter =  basetwitter.fromkeys(twkeys) #APLICANDO FUNÇÃO DA API NO DICIONÁRIO"
   ]
  },
  {
   "cell_type": "code",
   "execution_count": 13,
   "id": "933e40ee",
   "metadata": {},
   "outputs": [],
   "source": [
    "#USANDO COMANDO cursor_tweets OBS: COMANDO DA PRÓPRIA API DE ACORDO COM DOCUMENTAÇÕES.\n",
    "for tweet in cursor_tweets:\n",
    "    for key in basetwitter.keys():\n",
    "        try:\n",
    "            twvalue = tweet._json[key]\n",
    "            basetwitter[key].append(twvalue)\n",
    "        except KeyError:\n",
    "            twvalue = \"\"\n",
    "            if(basetwitter[key] is None):\n",
    "                basetwitter[key] = [twvalue]\n",
    "            else:\n",
    "                basetwitter[key].append(twvalue)\n",
    "        except:\n",
    "            basetwitter[key] = [twvalue]"
   ]
  },
  {
   "cell_type": "code",
   "execution_count": 14,
   "id": "079ed6db",
   "metadata": {},
   "outputs": [],
   "source": [
    "# TRANSFORMAR EM UM DATA FRAME:\n",
    "tabelao_original = pd.DataFrame.from_dict(basetwitter) # TEM HORA QUE PARA DE FUNCIONAR"
   ]
  },
  {
   "cell_type": "code",
   "execution_count": 15,
   "id": "165e9ec1",
   "metadata": {},
   "outputs": [],
   "source": [
    "#CRIANDO UMA CÓPIA DO TABELÃO PARA MODELAGEM DE DADOS:\n",
    "dfTweetstabelao = tabelao_original"
   ]
  },
  {
   "cell_type": "code",
   "execution_count": 16,
   "id": "0fe882ed",
   "metadata": {},
   "outputs": [],
   "source": [
    "#TRATANDO / TRANSFORMANDO O TABELÃO:\n",
    "\n",
    "#CONVERTENDO DATA NO DATAFRAME:\n",
    "import locale; locale.setlocale(locale.LC_TIME, 'en_US.UTF-8'); \n",
    "dfTweetstabelao['created_at'] = pd.to_datetime(dfTweetstabelao['created_at'], format='%a %b %d %H:%M:%S %z %Y').dt.strftime('%Y-%m-%d %H:%M:%S')\n",
    "\n",
    "#CONVERTENDO A COLUNA PARA DATA\n",
    "dfTweetstabelao['created_at'] = pd.to_datetime(dfTweetstabelao['created_at']) # TRANFORMANDO COLUNA DE STRING PARA DATATIME BR\n",
    "dfTweetstabelao['created_at'] = dfTweetstabelao['created_at']-timedelta(hours=3) #SUBTRAINDO 3 HORAS (CONVERTENDO UTC PARA BR)\n",
    "\n",
    "# TRANSFORMANDO NÚMEROS EM INTEIROS, E DEPOIS PARA STRING\n",
    "dfTweetstabelao[\"id\"] = dfTweetstabelao[\"id\"].apply(int)\n",
    "dfTweetstabelao[\"id_str\"] = dfTweetstabelao[\"id_str\"].apply(str)\n",
    "dfTweetstabelao.drop('id_str', axis=1, inplace=True)"
   ]
  },
  {
   "cell_type": "code",
   "execution_count": 17,
   "id": "fc132b3a",
   "metadata": {},
   "outputs": [],
   "source": [
    "#TABELA DE USUÁRIOS SENDO EXTRAÍDA DO TABELÃO ORIGINAL.\n",
    "users = (flatten(u) for u in tabelao_original['user'])\n",
    "tabelauser = pd.DataFrame(users)\n",
    "\n",
    "#CONVERTENDO DATA NO DATAFRAME:\n",
    "locale.setlocale(locale.LC_TIME, 'en_US.UTF-8'); \n",
    "tabelauser['created_at'] = pd.to_datetime(tabelauser['created_at'], format='%a %b %d %H:%M:%S %z %Y').dt.strftime('%Y-%m-%d %H:%M:%S')\n",
    "\n",
    "#CONVERTENDO A COLUNA PARA DATA\n",
    "tabelauser['created_at'] = pd.to_datetime(tabelauser['created_at']) # TRANFORMANDO COLUNA DE STRING PARA DATATIME BR\n",
    "tabelauser['created_at'] = tabelauser['created_at']-timedelta(hours=3) #SUBTRAINDO 3 HORAS (CONVERTENDO UTC PARA BR)\n",
    "tabelauser.insert(0, 'ID_POST_TABELAO', dfTweetstabelao[\"id\"]) #INSERINDO CHAVE PRIMÁRIA DO TABELÃO\n",
    "\n",
    "#REMOVENDO COLUNA USER DO TABELÃO, JÁ QUE A MESMA GEROU RESULTOU EM OUTRA TABELA.\n",
    "dfTweetstabelao.drop('user', axis=1, inplace=True)\n",
    "\n",
    "#REMOVENDO COLUNAS DUPLICADAS:\n",
    "del tabelauser['id_str']"
   ]
  },
  {
   "cell_type": "code",
   "execution_count": 18,
   "id": "ec049b44",
   "metadata": {},
   "outputs": [],
   "source": [
    "#TABELA DE entities SENDO EXTRAÍDO DO TABELÃO ORIGINAL.\n",
    "entities = (flatten(e) for e in dfTweetstabelao['entities'])\n",
    "tabelaentities = pd.DataFrame(entities)\n",
    "tabelaentities.insert(0, 'ID_POST_TABELAO', dfTweetstabelao[\"id\"]) #INSERINDO CHAVE PRIMÁRIA DO TABELÃO\n",
    "#REMOVENDO COLUNA entities DO TABELÃO, JÁ QUE A MESMA GEROU RESULTOU EM OUTRA TABELA.\n",
    "dfTweetstabelao.drop('entities', axis=1, inplace=True)"
   ]
  },
  {
   "cell_type": "code",
   "execution_count": 19,
   "id": "f89568ab",
   "metadata": {},
   "outputs": [],
   "source": [
    "#EXPORTANDO\n",
    "tabelauser.to_csv(r'C:/Users/WORKING USER/Desktop/APITWITTER/user.csv',sep=';',encoding=\"UTF8\" ,index=False)\n",
    "#EXPORTANDO\n",
    "tabelaentities.to_csv(r'C:/Users/WORKING USER/Desktop/APITWITTER/tabelaentities.csv',sep=';',encoding=\"UTF8\" ,index=False)\n",
    "#EXPORTANDO\n",
    "dfTweetstabelao.to_csv(r'C:/Users/WORKING USER/Desktop/APITWITTER/tabelao.csv',sep=';',encoding=\"UTF8\" ,index=False)"
   ]
  },
  {
   "cell_type": "code",
   "execution_count": 20,
   "id": "9876e589",
   "metadata": {},
   "outputs": [],
   "source": [
    "#LENDO E FAZENDO INGESTÃO NO BANCO MYSQL\n",
    "basetabelao = pd.read_csv(r'C:/Users/WORKING USER/Desktop/APITWITTER/tabelao.csv',sep=';')\n",
    "baseuser = pd.read_csv(r'C:/Users/WORKING USER/Desktop/APITWITTER/user.csv',sep=';')\n",
    "baseentities = pd.read_csv(r'C:/Users/WORKING USER/Desktop/APITWITTER/tabelaentities.csv',sep=';')"
   ]
  },
  {
   "cell_type": "code",
   "execution_count": 21,
   "id": "3d70e4b9",
   "metadata": {},
   "outputs": [
    {
     "name": "stdout",
     "output_type": "stream",
     "text": [
      "CONEXÃO REALIZADA COM SUCESSO!\n"
     ]
    }
   ],
   "source": [
    "#REALIZANDO CONEXÃO COM O BANCO:\n",
    "\n",
    "user = 'user_banco'\n",
    "senha = 'senha_banco'\n",
    "ipbancosql= 'HOST_BANCO'\n",
    "porta = 'PORTA_BANCO'\n",
    "nomebanco ='DADOS_DO_TWITTER'\n",
    "\n",
    "engine = sqlalchemy.create_engine('mysql+pymysql://'+user+':'+senha+'@'+ipbancosql+':'+porta+'/'+nomebanco+'') # CONEXÃO\n",
    "\n",
    "print(\"CONEXÃO REALIZADA COM SUCESSO!\")"
   ]
  },
  {
   "cell_type": "code",
   "execution_count": 22,
   "id": "7876c90d",
   "metadata": {},
   "outputs": [],
   "source": [
    "#INSERIDO TABELÃO NO BANCO\n",
    "basetabelao.to_sql(\n",
    "    name = 'tabelao',\n",
    "    con = engine,\n",
    "    index = False,\n",
    "    if_exists ='append'\n",
    ")"
   ]
  },
  {
   "cell_type": "code",
   "execution_count": 23,
   "id": "12e310f9",
   "metadata": {},
   "outputs": [],
   "source": [
    "#INSERIDO TABELA USER NO BANCO\n",
    "baseuser.to_sql(\n",
    "    name = 'users',\n",
    "    con = engine,\n",
    "    index = False,\n",
    "    if_exists ='append'\n",
    ")"
   ]
  },
  {
   "cell_type": "code",
   "execution_count": 24,
   "id": "20c14de2",
   "metadata": {},
   "outputs": [],
   "source": [
    "#INSERIDO TABELA ENTITIES USER NO BANCO\n",
    "baseentities.to_sql(\n",
    "    name = 'entities',\n",
    "    con = engine,\n",
    "    index = False,\n",
    "    if_exists ='append'\n",
    ")"
   ]
  },
  {
   "cell_type": "code",
   "execution_count": 25,
   "id": "49c35125",
   "metadata": {},
   "outputs": [
    {
     "name": "stdout",
     "output_type": "stream",
     "text": [
      "INGESTÃO CONCLUÍDA COM SUCESSO!\n"
     ]
    }
   ],
   "source": [
    "print('INGESTÃO CONCLUÍDA COM SUCESSO!')"
   ]
  }
 ],
 "metadata": {
  "kernelspec": {
   "display_name": "Python 3 (ipykernel)",
   "language": "python",
   "name": "python3"
  },
  "language_info": {
   "codemirror_mode": {
    "name": "ipython",
    "version": 3
   },
   "file_extension": ".py",
   "mimetype": "text/x-python",
   "name": "python",
   "nbconvert_exporter": "python",
   "pygments_lexer": "ipython3",
   "version": "3.9.7"
  }
 },
 "nbformat": 4,
 "nbformat_minor": 5
}
